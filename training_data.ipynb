{
 "cells": [
  {
   "cell_type": "code",
   "execution_count": null,
   "id": "88302ee2-e5c6-49b7-b8b6-b84115ec8f3d",
   "metadata": {},
   "outputs": [],
   "source": [
    "! ls ../mimic3-benchmarks/data/root/test"
   ]
  },
  {
   "cell_type": "code",
   "execution_count": null,
   "id": "38e16c6f-62e2-43eb-b365-7b7f27431428",
   "metadata": {},
   "outputs": [],
   "source": [
    "! ls ../mimic3-benchmarks/data/in-hospital-mortality/test"
   ]
  },
  {
   "cell_type": "code",
   "execution_count": null,
   "id": "18e83edf-c962-4c73-b3ae-41c59c79ce68",
   "metadata": {},
   "outputs": [],
   "source": [
    "import csv\n",
    "import pandas as pd\n",
    "import numpy as np\n",
    "import os"
   ]
  },
  {
   "cell_type": "code",
   "execution_count": null,
   "id": "5bcb85ee-b322-4a02-9096-1b312ffb6001",
   "metadata": {},
   "outputs": [],
   "source": [
    "# The data is organized as follows\n",
    "# in /home/iandre3/PACE/data, there's two subfolders,\n",
    "# measurements and icu.\n",
    "# \n",
    "# measurements contains files with time series of health measurements made throughout the first 48 hours of a single ICU admission. Only ICU admissions longer than 48 hours are in the folder, but only the first 48 hours of measurements are included.\n",
    "# measurements also has a file called labels.csv which lists each time series file name along with its label, 0 for no mortality outcome and 1 for mortality outcome.\n",
    "# For each ICU patienttime series in measurements/, there is a corresponding folder in icu/ containing admission episodes and where each episode has information on diagnosis"
   ]
  },
  {
   "cell_type": "code",
   "execution_count": null,
   "id": "6a4ea584-d05e-4026-bc6a-b8f6ccde9f1e",
   "metadata": {},
   "outputs": [],
   "source": [
    "# After dataset loading, the features are going to be\n",
    " \n",
    "# Age  Capillary refill rate  Diagnosis 00845  Diagnosis 0389  Diagnosis 07054  Diagnosis 2449  Diagnosis 25000  Diagnosis 25040  Diagnosis 25060  Diagnosis 2639  Diagnosis 2720  Diagnosis 2724  Diagnosis 2749  Diagnosis 2760  Diagnosis 2761  Diagnosis 2762  Diagnosis 2763  Diagnosis 27651  Diagnosis 27652  Diagnosis 2767  Diagnosis 2768  Diagnosis 27800  Diagnosis 27801  Diagnosis 2800  Diagnosis 2809  Diagnosis 2851  Diagnosis 28521  Diagnosis 28529  Diagnosis 2859  Diagnosis 2869  Diagnosis 2875  Diagnosis 28860  Diagnosis 2930  Diagnosis 2948  Diagnosis 30000  Diagnosis 3004  Diagnosis 30500  Diagnosis 3051  Diagnosis 311  Diagnosis 32723  Diagnosis 34590  Diagnosis 3485  Diagnosis 3572  Diagnosis 36201  Diagnosis 4019  Diagnosis 40390  Diagnosis 40391  Diagnosis 41071  Diagnosis 4111  Diagnosis 412  Diagnosis 4139  Diagnosis 41400  Diagnosis 41401  Diagnosis 4168  Diagnosis 4240  Diagnosis 4241  Diagnosis 4254  Diagnosis 4271  Diagnosis 42731  Diagnosis 42732  Diagnosis 4275  Diagnosis 42789  Diagnosis 4280  Diagnosis 42822  Diagnosis 42823  Diagnosis 42832  Diagnosis 42833  Diagnosis 431  Diagnosis 4439  Diagnosis 45829  Diagnosis 4589  Diagnosis 486  Diagnosis 49121  Diagnosis 49390  Diagnosis 496  Diagnosis 5070  Diagnosis 5119  Diagnosis 5180  Diagnosis 51881  Diagnosis 53081  Diagnosis 5601  Diagnosis 56210  Diagnosis 570  Diagnosis 5712  Diagnosis 5715  Diagnosis 5723  Diagnosis 5770  Diagnosis 5789  Diagnosis 5845  Diagnosis 5849  Diagnosis 5856  Diagnosis 5859  Diagnosis 5990  Diagnosis 60000  Diagnosis 70703  Diagnosis 71590  Diagnosis 73300  Diagnosis 78039  Diagnosis 78551  Diagnosis 78552  Diagnosis 78791  Diagnosis 78820  Diagnosis 7907  Diagnosis 79092  Diagnosis 79902  Diagnosis 99591  Diagnosis 99592  Diagnosis 99662  Diagnosis 9971  Diagnosis 99811  Diagnosis 99812  Diagnosis 99859  Diagnosis E8497  Diagnosis E8782  Diagnosis E8788  Diagnosis E8798  Diagnosis E8889  Diagnosis V103  Diagnosis V1046  Diagnosis V1251  Diagnosis V1254  Diagnosis V1582  Diagnosis V4501  Diagnosis V4581  Diagnosis V4582  Diagnosis V4986  Diagnosis V5861  Diagnosis V5865  Diagnosis V5867  Diagnosis V667  Diastolic blood pressure  Ethnicity  Fraction inspired oxygen  Gender Glascow coma scale eye opening Glascow coma scale motor response  Glascow coma scale total Glascow coma scale verbal response  Glucose  Heart Rate  Height     Hours  Mean blood pressure  Oxygen saturation  Respiratory rate  Systolic blood pressure  Temperature     Weight   pH"
   ]
  },
  {
   "cell_type": "code",
   "execution_count": 119,
   "id": "e178f37f-22fe-4e27-845c-7932546561b3",
   "metadata": {
    "scrolled": true,
    "tags": []
   },
   "outputs": [
    {
     "name": "stdout",
     "output_type": "stream",
     "text": [
      "2022-04-07 15:18:42.617195: Done loading sample 1/20030, wrote to 10011_episode1.csv\n",
      "2022-04-07 15:19:25.476045: Done loading sample 501/20030, wrote to 17614_episode1.csv\n",
      "2022-04-07 15:20:08.210144: Done loading sample 1001/20030, wrote to 24459_episode1.csv\n",
      "2022-04-07 15:20:51.446712: Done loading sample 1501/20030, wrote to 31526_episode1.csv\n",
      "2022-04-07 15:21:34.329666: Done loading sample 2001/20030, wrote to 5586_episode1.csv\n",
      "2022-04-07 15:22:17.494390: Done loading sample 2501/20030, wrote to 77469_episode1.csv\n",
      "2022-04-07 15:23:00.849964: Done loading sample 3001/20030, wrote to 98057_episode1.csv\n",
      "2022-04-07 15:23:44.266172: Done loading sample 3501/20030, wrote to 28973_episode1.csv\n",
      "2022-04-07 15:24:28.413067: Done loading sample 4001/20030, wrote to 19995_episode1.csv\n",
      "2022-04-07 15:25:12.454241: Done loading sample 4501/20030, wrote to 58075_episode1.csv\n",
      "2022-04-07 15:25:55.780396: Done loading sample 5001/20030, wrote to 25904_episode1.csv\n",
      "2022-04-07 15:26:39.357922: Done loading sample 5501/20030, wrote to 18788_episode1.csv\n",
      "2022-04-07 15:27:20.978286: Done loading sample 6001/20030, wrote to 30191_episode1.csv\n",
      "2022-04-07 15:28:00.111673: Done loading sample 6501/20030, wrote to 14507_episode1.csv\n",
      "2022-04-07 15:28:38.849355: Done loading sample 7001/20030, wrote to 29544_episode2.csv\n",
      "2022-04-07 15:29:17.606607: Done loading sample 7501/20030, wrote to 47983_episode1.csv\n",
      "2022-04-07 15:29:56.418049: Done loading sample 8001/20030, wrote to 20848_episode1.csv\n",
      "2022-04-07 15:30:35.146426: Done loading sample 8501/20030, wrote to 25057_episode1.csv\n",
      "2022-04-07 15:31:13.424042: Done loading sample 9001/20030, wrote to 77220_episode2.csv\n",
      "2022-04-07 15:31:51.848455: Done loading sample 9501/20030, wrote to 3475_episode1.csv\n",
      "2022-04-07 15:32:30.845438: Done loading sample 10001/20030, wrote to 28749_episode1.csv\n",
      "2022-04-07 15:33:09.832339: Done loading sample 10501/20030, wrote to 77067_episode1.csv\n",
      "2022-04-07 15:33:48.948849: Done loading sample 11001/20030, wrote to 46228_episode2.csv\n",
      "2022-04-07 15:34:27.891340: Done loading sample 11501/20030, wrote to 30122_episode1.csv\n",
      "2022-04-07 15:35:06.352026: Done loading sample 12001/20030, wrote to 14515_episode1.csv\n",
      "2022-04-07 15:35:45.873003: Done loading sample 12501/20030, wrote to 31709_episode1.csv\n",
      "2022-04-07 15:36:24.820430: Done loading sample 13001/20030, wrote to 24856_episode1.csv\n",
      "2022-04-07 15:37:03.352273: Done loading sample 13501/20030, wrote to 86580_episode1.csv\n",
      "2022-04-07 15:37:42.435619: Done loading sample 14001/20030, wrote to 14118_episode1.csv\n",
      "2022-04-07 15:38:20.766364: Done loading sample 14501/20030, wrote to 80744_episode1.csv\n",
      "2022-04-07 15:38:59.257984: Done loading sample 15001/20030, wrote to 7533_episode1.csv\n",
      "2022-04-07 15:39:37.491028: Done loading sample 15501/20030, wrote to 62186_episode3.csv\n",
      "2022-04-07 15:40:15.587261: Done loading sample 16001/20030, wrote to 21141_episode1.csv\n",
      "2022-04-07 15:40:53.942519: Done loading sample 16501/20030, wrote to 21220_episode1.csv\n",
      "2022-04-07 15:41:31.999266: Done loading sample 17001/20030, wrote to 68356_episode2.csv\n",
      "2022-04-07 15:42:10.256271: Done loading sample 17501/20030, wrote to 98235_episode1.csv\n",
      "2022-04-07 15:42:48.966467: Done loading sample 18001/20030, wrote to 15961_episode1.csv\n",
      "2022-04-07 15:43:27.300925: Done loading sample 18501/20030, wrote to 27816_episode2.csv\n",
      "2022-04-07 15:44:05.887234: Done loading sample 19001/20030, wrote to 23954_episode1.csv\n",
      "2022-04-07 15:44:44.604046: Done loading sample 19501/20030, wrote to 22123_episode1.csv\n",
      "2022-04-07 15:45:22.981215: Done loading sample 20001/20030, wrote to 8406_episode1.csv\n"
     ]
    }
   ],
   "source": [
    "import torch\n",
    "import datetime\n",
    "from torch.utils.data import Dataset\n",
    "\n",
    "# from 10011_episode1_timeseries.csv\n",
    "# return \"10011/episode1.csv\"\n",
    "def get_episode_from_stay_name(stay_name):\n",
    "    chunks = stay_name.split(\"_\")\n",
    "    return f\"{chunks[0]}/{chunks[1]}.csv\", f\"{chunks[0]}_{chunks[1]}.csv\"\n",
    "\n",
    "def drop_leaking_data_from_episode(episode_df):\n",
    "    del episode_df[\"Icustay\"]\n",
    "    del episode_df[\"Length of Stay\"]\n",
    "    del episode_df[\"Mortality\"]\n",
    "    \n",
    "    return episode_df\n",
    "\n",
    "def cast(x):\n",
    "    try:\n",
    "        return 0 if x == 0 else int(float(x.split(\" \")[0]))\n",
    "    except:\n",
    "        return 0\n",
    "        \n",
    "        \n",
    "\n",
    "class MortalityDataset(Dataset):\n",
    "    def __init__(self, timeseries_dir, episodes_dir):\n",
    "        overview = pd.read_csv(timeseries_dir+\"labels.csv\")\n",
    "        \n",
    "        self.data = []\n",
    "        for index, row in overview.iterrows():\n",
    "            stay = row['stay']\n",
    "            y_true = row['y_true']\n",
    "            measurements = pd.read_csv(timeseries_dir+stay)\n",
    "            num_measurements = len(measurements.index)\n",
    "            fs_name, new_fs_name = get_episode_from_stay_name(stay)\n",
    "            episode_codes = drop_leaking_data_from_episode(pd.read_csv(episodes_dir+fs_name))\n",
    "            episode_codes = pd.DataFrame(np.repeat(episode_codes.values, num_measurements, axis=0), columns=episode_codes.columns)\n",
    "            measurements = measurements.combine_first(episode_codes)\n",
    "            measurements[\"y_true\"] = y_true\n",
    "            measurements = measurements.sort_values(by=\"Hours\", ascending=True)\n",
    "            measurements = measurements.fillna(0)\n",
    "            measurements = measurements.astype(int, errors='ignore')\n",
    "            \n",
    "            newdf = measurements.select_dtypes(include=[\"object\"])\n",
    "            newdf = newdf.applymap(lambda x: cast(x))\n",
    "            measurements[newdf.columns] = newdf.values\n",
    "            measurements = measurements.astype(int)\n",
    "        \n",
    "            measurements.to_csv(f\"/home/iandre3/PACE/data/preprocessed/{new_fs_name}\")\n",
    "            if index % 500 == 0:\n",
    "                print(f\"{datetime.datetime.now()}: Done loading sample {index+1}/{len(overview)}, wrote to {new_fs_name}\")\n",
    "\n",
    "    def __len__(self):\n",
    "        return len(self.img_labels)\n",
    "\n",
    "    def __getitem__(self, idx):\n",
    "        img_path = os.path.join(self.img_dir, self.img_labels.iloc[idx, 0])\n",
    "        image = read_image(img_path)\n",
    "        label = self.img_labels.iloc[idx, 1]\n",
    "        if self.transform:\n",
    "            image = self.transform(image)\n",
    "        if self.target_transform:\n",
    "            label = self.target_transform(label)\n",
    "        return image, label\n",
    "    \n",
    "m = MortalityDataset(timeseries_dir=\"/home/iandre3/PACE/data/measurements/\", episodes_dir=\"/home/iandre3/PACE/data/icu/\")"
   ]
  },
  {
   "cell_type": "code",
   "execution_count": null,
   "id": "421fd911-dffc-4b65-9de6-5aab2d8f25c2",
   "metadata": {},
   "outputs": [],
   "source": []
  },
  {
   "cell_type": "code",
   "execution_count": null,
   "id": "604e3a7c-8203-421f-beb2-51151c554c1d",
   "metadata": {},
   "outputs": [],
   "source": []
  }
 ],
 "metadata": {
  "kernelspec": {
   "display_name": "Python [conda env:opence-v1.5.1]",
   "language": "python",
   "name": "conda-env-opence-v1.5.1-py"
  },
  "language_info": {
   "codemirror_mode": {
    "name": "ipython",
    "version": 3
   },
   "file_extension": ".py",
   "mimetype": "text/x-python",
   "name": "python",
   "nbconvert_exporter": "python",
   "pygments_lexer": "ipython3",
   "version": "3.9.7"
  }
 },
 "nbformat": 4,
 "nbformat_minor": 5
}
