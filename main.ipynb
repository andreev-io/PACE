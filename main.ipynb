{
 "cells": [
  {
   "cell_type": "code",
   "execution_count": 7,
   "id": "53d498ed",
   "metadata": {},
   "outputs": [
    {
     "name": "stdout",
     "output_type": "stream",
     "text": [
      "ADMISSIONS.csv.gz\t D_ITEMS.csv.gz\t\t    NOTEEVENTS.csv.gz\r\n",
      "CALLOUT.csv.gz\t\t D_LABITEMS.csv.gz\t    OUTPUTEVENTS.csv.gz\r\n",
      "CAREGIVERS.csv.gz\t DRGCODES.csv.gz\t    PATIENTS.csv.gz\r\n",
      "CHARTEVENTS.csv.gz\t ICUSTAYS.csv.gz\t    PRESCRIPTIONS.csv.gz\r\n",
      "CPTEVENTS.csv.gz\t index.html\t\t    PROCEDUREEVENTS_MV.csv.gz\r\n",
      "DATETIMEEVENTS.csv.gz\t INPUTEVENTS_CV.csv.gz\t    PROCEDURES_ICD.csv.gz\r\n",
      "D_CPT.csv.gz\t\t INPUTEVENTS_MV.csv.gz\t    README.md\r\n",
      "DIAGNOSES_ICD.csv.gz\t LABEVENTS.csv.gz\t    SERVICES.csv.gz\r\n",
      "D_ICD_DIAGNOSES.csv.gz\t LICENSE.txt\t\t    SHA256SUMS.txt\r\n",
      "D_ICD_PROCEDURES.csv.gz  MICROBIOLOGYEVENTS.csv.gz  TRANSFERS.csv.gz\r\n"
     ]
    }
   ],
   "source": [
    "! ls ../physionet.org/files/mimiciii/1.4"
   ]
  },
  {
   "cell_type": "code",
   "execution_count": null,
   "id": "71e663ed",
   "metadata": {},
   "outputs": [],
   "source": []
  }
 ],
 "metadata": {
  "kernelspec": {
   "display_name": "Python 3 (ipykernel)",
   "language": "python",
   "name": "python3"
  },
  "language_info": {
   "codemirror_mode": {
    "name": "ipython",
    "version": 3
   },
   "file_extension": ".py",
   "mimetype": "text/x-python",
   "name": "python",
   "nbconvert_exporter": "python",
   "pygments_lexer": "ipython3",
   "version": "3.8.10"
  }
 },
 "nbformat": 4,
 "nbformat_minor": 5
}
